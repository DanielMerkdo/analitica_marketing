{
 "cells": [
  {
   "cell_type": "markdown",
   "metadata": {
    "id": "NIf2KhC-0QG4"
   },
   "source": [
    "# Cargar librerias"
   ]
  },
  {
   "cell_type": "code",
   "execution_count": 1,
   "metadata": {
    "executionInfo": {
     "elapsed": 410,
     "status": "ok",
     "timestamp": 1747009072636,
     "user": {
      "displayName": "JAVIER MAURICIO SUAREZ MONSALVE",
      "userId": "12310284964778096183"
     },
     "user_tz": 300
    },
    "id": "ik8hkdAx0JWc"
   },
   "outputs": [],
   "source": [
    "import numpy as np\n",
    "import pandas as pd\n",
    "import sqlite3 as sql\n",
    "import openpyxl\n",
    "\n",
    "\n",
    "\n",
    "####Paquete para sistema basado en contenido ####\n",
    "from sklearn.preprocessing import MinMaxScaler\n",
    "from sklearn import neighbors"
   ]
  },
  {
   "cell_type": "code",
   "execution_count": 2,
   "metadata": {
    "colab": {
     "base_uri": "https://localhost:8080/"
    },
    "executionInfo": {
     "elapsed": 245,
     "status": "ok",
     "timestamp": 1747009393074,
     "user": {
      "displayName": "JAVIER MAURICIO SUAREZ MONSALVE",
      "userId": "12310284964778096183"
     },
     "user_tz": 300
    },
    "id": "eSZdknO42wG3",
    "outputId": "18495006-50b0-474a-fb7d-6f054111760d"
   },
   "outputs": [
    {
     "data": {
      "text/plain": [
       "<module 'a_funciones' from 'g:\\\\Mi unidad\\\\cod\\\\analitica_marketing\\\\a_funciones.py'>"
      ]
     },
     "execution_count": 2,
     "metadata": {},
     "output_type": "execute_result"
    }
   ],
   "source": [
    "import a_funciones as funciones     # Importar las funciones\n",
    "import importlib\n",
    "importlib.reload(funciones)"
   ]
  },
  {
   "cell_type": "code",
   "execution_count": 3,
   "metadata": {
    "executionInfo": {
     "elapsed": 5805,
     "status": "ok",
     "timestamp": 1747008471208,
     "user": {
      "displayName": "JAVIER MAURICIO SUAREZ MONSALVE",
      "userId": "12310284964778096183"
     },
     "user_tz": 300
    },
    "id": "TGYDEXnY0YtF"
   },
   "outputs": [],
   "source": [
    "####Paquete para sistema basado en contenido ####\n",
    "from sklearn.preprocessing import MinMaxScaler\n",
    "from sklearn import neighbors\n",
    "\n",
    "import logging\n",
    "from tqdm import tqdm\n"
   ]
  },
  {
   "cell_type": "code",
   "execution_count": 4,
   "metadata": {
    "executionInfo": {
     "elapsed": 47,
     "status": "ok",
     "timestamp": 1747009310294,
     "user": {
      "displayName": "JAVIER MAURICIO SUAREZ MONSALVE",
      "userId": "12310284964778096183"
     },
     "user_tz": 300
    },
    "id": "GoVUi4IO0hFu"
   },
   "outputs": [],
   "source": [
    "# Conffiguración del logg\n",
    "logging.basicConfig(\n",
    "    filename='G:\\\\Mi unidad\\\\cod\\\\analitica_marketing\\\\salida\\\\reco\\\\script_log.log',\n",
    "    level=logging.INFO,       #nivel de logg, informativo solo muestra informació básica de ejecución\n",
    "    format='%(asctime)s - %(levelname)s - %(message)s'  ## formato log, hora, nievel(error, informativo, advertencia), mensaje personalizado cuando se llama logg\n",
    ")"
   ]
  },
  {
   "cell_type": "code",
   "execution_count": null,
   "metadata": {
    "executionInfo": {
     "elapsed": 12,
     "status": "ok",
     "timestamp": 1747010527476,
     "user": {
      "displayName": "JAVIER MAURICIO SUAREZ MONSALVE",
      "userId": "12310284964778096183"
     },
     "user_tz": 300
    },
    "id": "XCWWFK_O057E"
   },
   "outputs": [],
   "source": [
    "def preprocesar(conex=None, cur=None):\n",
    "\n",
    "    ######## convertir datos crudos a bases filtradas por usuarios que tengan cierto número de calificaciones\n",
    "    funciones.ejecutar_sql('G:\\\\Mi unidad\\\\cod\\\\analitica_marketing\\\\preprocesamiento.sql', cur)\n",
    "\n",
    "    log_mes='Ejecución de SQL para filtrar peliculas y ratings completada.'\n",
    "    logging.info(log_mes)\n",
    "    print(log_mes)\n",
    "\n",
    "    ##### llevar datos que cambian constantemente a python ######\n",
    "    movies1=pd.read_sql(\"\"\"select * from db_movies_final\"\"\", conex)\n",
    "    ratings=pd.read_sql(\"\"\"select * from db_movies_final\"\"\", conex)\n",
    "    usuarios=pd.read_sqlpd.read_sql('select distinct (user_id) as user_id from db_movies_final',conex)\n",
    "\n",
    "    #### transformación de datos crudos - Preprocesamiento ################\n",
    "\n",
    "    # Se eliminan los registros duplicados, solo se requiere el catalogo de las peliculas\n",
    "    movies2 = movies1.drop_duplicates(subset='movie_Id', keep='first').reset_index(drop=True)\n",
    "\n",
    "    ##### escalar para que año esté en el mismo rango ###\n",
    "    sc=MinMaxScaler()\n",
    "    movies2[[\"movie_yearsc\"]]=sc.fit_transform(movies2[['movie_year']])\n",
    "\n",
    "    #eliminar columnas que no se requieren para el analisis\n",
    "    movies3=movies2.drop(columns=['user_id','movie_Id','movie_rating','movie_year','rating_year','movie_title'])\n",
    "\n",
    "\n",
    "    log_mes='Preprocesamiento de datos completado.'\n",
    "    logging.info(log_mes)\n",
    "    print(log_mes)\n",
    "\n",
    "    return movies3,movies2, conex, cur\n"
   ]
  },
  {
   "cell_type": "code",
   "execution_count": null,
   "metadata": {
    "id": "QRAY-0tP7j3R"
   },
   "outputs": [],
   "source": [
    "##########################################################################\n",
    "###############Función para entrenar modelo por cada usuario ##########\n",
    "###############Basado en contenido todo lo visto por el usuario Knn#############################\n",
    "def recomendar(user_id, conex=None, cur=None, books_dum2=None, books=None):\n",
    "\n",
    "    ratings=pd.read_sql('select *from db_movies_final where user_id=:user',conex, params={'user':user_id})\n",
    "    l_movies_r=ratings['movie_id'].to_numpy()\n",
    "    movies3[['movie_id','movie_title']]=movies2[['movie_id','movie_title']]\n",
    "    movies_r=movies3[movies3['movie_id'].isin(l_books_r)]\n",
    "    movies_r=movies_r.drop(columns=['movie_id','movie_title'])\n",
    "    books_r[\"indice\"]=1 ### para usar group by y que quede en formato pandas tabla de centroide\n",
    "    centroide=books_r.groupby(\"indice\").mean()\n",
    "\n",
    "    log_mes=f'Generando recomendaciones para el usuario {user_id}.'\n",
    "    logging.info(log_mes)\n",
    "    print(log_mes)\n",
    "\n",
    "\n",
    "\n",
    "\n",
    "    books_nr=books_dum2[~books_dum2['isbn'].isin(l_books_r)]\n",
    "    books_nr=books_nr.drop(columns=['isbn','book_title'])\n",
    "    model=neighbors.NearestNeighbors(n_neighbors=11, metric='cosine')\n",
    "    model.fit(books_nr)\n",
    "    dist, idlist = model.kneighbors(centroide)\n",
    "\n",
    "    ids=idlist[0]\n",
    "    recomend_b=books.loc[ids][['book_title','isbn']]\n",
    "\n",
    "    log_mes=f'Recomendaciones para el usuario {user_id} finalizadas'\n",
    "    logging.info(log_mes)\n",
    "    print(log_mes)\n",
    "\n",
    "    return recomend_b"
   ]
  },
  {
   "cell_type": "code",
   "execution_count": null,
   "metadata": {},
   "outputs": [],
   "source": [
    "##### Generar recomendaciones para usuario lista de usuarios ####\n",
    "##### No se hace para todos porque es muy pesado #############\n",
    "def main(list_user):\n",
    "\n",
    "    #### conectar_base_de_Datos#################\n",
    "    conex=sql.connect('G:\\\\Mi unidad\\\\cod\\\\analitica_marketing\\\\data\\\\db_movies_final.db')\n",
    "    cur=conex.cursor()\n",
    "    \n",
    "    log_mes='Conexión a la base de datos establecida.'\n",
    "    logging.info(log_mes)       \n",
    "    print(log_mes)  \n",
    "\n",
    "    recomendaciones_todos=pd.DataFrame()\n",
    "\n",
    "    movies3, movies2, conex, cur= preprocesar(conex, cur)\n",
    "    for user_id in tqdm(list_user):\n",
    "            \n",
    "        recomendaciones=recomendar(user_id, conex, cur, movies3, movies2)\n",
    "        recomendaciones[\"user_id\"]=user_id\n",
    "        recomendaciones.reset_index(inplace=True,drop=True)\n",
    "        \n",
    "        recomendaciones_todos=pd.concat([recomendaciones_todos, recomendaciones])\n",
    "\n",
    "    recomendaciones_todos.to_excel('G:\\\\Mi unidad\\\\cod\\\\analitica_marketing\\\\salida\\\\reco\\\\recomendaciones.xlsx')\n",
    "    recomendaciones_todos.to_csv('G:\\\\Mi unidad\\\\cod\\\\analitica_marketing\\\\salida\\\\reco\\\\recomendaciones.csv')\n",
    "    \n",
    "    log_mes='Recomendaciones generadas y guardadas en Excel y CSV.' \n",
    "    logging.info(log_mes)\n",
    "    print(log_mes)"
   ]
  },
  {
   "cell_type": "code",
   "execution_count": 12,
   "metadata": {},
   "outputs": [
    {
     "name": "stdout",
     "output_type": "stream",
     "text": [
      "Conexión a la base de datos establecida.\n"
     ]
    },
    {
     "ename": "OperationalError",
     "evalue": "no such table: ratings",
     "output_type": "error",
     "traceback": [
      "\u001b[31m---------------------------------------------------------------------------\u001b[39m",
      "\u001b[31mOperationalError\u001b[39m                          Traceback (most recent call last)",
      "\u001b[36mCell\u001b[39m\u001b[36m \u001b[39m\u001b[32mIn[12]\u001b[39m\u001b[32m, line 3\u001b[39m\n\u001b[32m      1\u001b[39m \u001b[38;5;28;01mif\u001b[39;00m \u001b[34m__name__\u001b[39m==\u001b[33m\"\u001b[39m\u001b[33m__main__\u001b[39m\u001b[33m\"\u001b[39m:\n\u001b[32m      2\u001b[39m     list_user=[\u001b[32m2\u001b[39m,\u001b[32m50\u001b[39m,\u001b[32m120\u001b[39m,\u001b[32m308\u001b[39m]\n\u001b[32m----> \u001b[39m\u001b[32m3\u001b[39m     \u001b[43mmain\u001b[49m\u001b[43m(\u001b[49m\u001b[43mlist_user\u001b[49m\u001b[43m)\u001b[49m\n\u001b[32m      5\u001b[39m \u001b[38;5;28;01mimport\u001b[39;00m\u001b[38;5;250m \u001b[39m\u001b[34;01msys\u001b[39;00m\n\u001b[32m      6\u001b[39m sys.executable\n",
      "\u001b[36mCell\u001b[39m\u001b[36m \u001b[39m\u001b[32mIn[10]\u001b[39m\u001b[32m, line 15\u001b[39m, in \u001b[36mmain\u001b[39m\u001b[34m(list_user)\u001b[39m\n\u001b[32m     11\u001b[39m \u001b[38;5;28mprint\u001b[39m(log_mes)  \n\u001b[32m     13\u001b[39m recomendaciones_todos=pd.DataFrame()\n\u001b[32m---> \u001b[39m\u001b[32m15\u001b[39m movies3, movies2, conn, cur= \u001b[43mpreprocesar\u001b[49m\u001b[43m(\u001b[49m\u001b[43mconn\u001b[49m\u001b[43m,\u001b[49m\u001b[43m \u001b[49m\u001b[43mcur\u001b[49m\u001b[43m)\u001b[49m\n\u001b[32m     16\u001b[39m \u001b[38;5;28;01mfor\u001b[39;00m user_id \u001b[38;5;129;01min\u001b[39;00m tqdm(list_user):\n\u001b[32m     18\u001b[39m     recomendaciones=recomendar(user_id, conn, cur, movies3, movies2)\n",
      "\u001b[36mCell\u001b[39m\u001b[36m \u001b[39m\u001b[32mIn[5]\u001b[39m\u001b[32m, line 4\u001b[39m, in \u001b[36mpreprocesar\u001b[39m\u001b[34m(conn, cur)\u001b[39m\n\u001b[32m      1\u001b[39m \u001b[38;5;28;01mdef\u001b[39;00m\u001b[38;5;250m \u001b[39m\u001b[34mpreprocesar\u001b[39m(conn=\u001b[38;5;28;01mNone\u001b[39;00m, cur=\u001b[38;5;28;01mNone\u001b[39;00m):\n\u001b[32m      2\u001b[39m \n\u001b[32m      3\u001b[39m     \u001b[38;5;66;03m######## convertir datos crudos a bases filtradas por usuarios que tengan cierto número de calificaciones\u001b[39;00m\n\u001b[32m----> \u001b[39m\u001b[32m4\u001b[39m     \u001b[43mfunciones\u001b[49m\u001b[43m.\u001b[49m\u001b[43mejecutar_sql\u001b[49m\u001b[43m(\u001b[49m\u001b[33;43m'\u001b[39;49m\u001b[33;43mG:\u001b[39;49m\u001b[38;5;130;43;01m\\\\\u001b[39;49;00m\u001b[33;43mMi unidad\u001b[39;49m\u001b[38;5;130;43;01m\\\\\u001b[39;49;00m\u001b[33;43mcod\u001b[39;49m\u001b[38;5;130;43;01m\\\\\u001b[39;49;00m\u001b[33;43manalitica_marketing\u001b[39;49m\u001b[38;5;130;43;01m\\\\\u001b[39;49;00m\u001b[33;43mpreprocesamiento.sql\u001b[39;49m\u001b[33;43m'\u001b[39;49m\u001b[43m,\u001b[49m\u001b[43m \u001b[49m\u001b[43mcur\u001b[49m\u001b[43m)\u001b[49m\n\u001b[32m      6\u001b[39m     log_mes=\u001b[33m'\u001b[39m\u001b[33mEjecución de SQL para filtrar peliculas y ratings completada.\u001b[39m\u001b[33m'\u001b[39m\n\u001b[32m      7\u001b[39m     logging.info(log_mes)\n",
      "\u001b[36mFile \u001b[39m\u001b[32mg:\\Mi unidad\\cod\\analitica_marketing\\a_funciones.py:8\u001b[39m, in \u001b[36mejecutar_sql\u001b[39m\u001b[34m(nombre_archivo, cur)\u001b[39m\n\u001b[32m      6\u001b[39m sql_as_string=sql_file.read()\n\u001b[32m      7\u001b[39m sql_file.close\n\u001b[32m----> \u001b[39m\u001b[32m8\u001b[39m \u001b[43mcur\u001b[49m\u001b[43m.\u001b[49m\u001b[43mexecutescript\u001b[49m\u001b[43m(\u001b[49m\u001b[43msql_as_string\u001b[49m\u001b[43m)\u001b[49m\n",
      "\u001b[31mOperationalError\u001b[39m: no such table: ratings"
     ]
    }
   ],
   "source": [
    "if __name__==\"__main__\":\n",
    "    list_user=[2,50,120,308]\n",
    "    main(list_user)\n",
    "\n",
    "import sys\n",
    "sys.executable"
   ]
  }
 ],
 "metadata": {
  "colab": {
   "authorship_tag": "ABX9TyPttLFrVo/pTCadAkza8r8H",
   "provenance": [],
   "toc_visible": true
  },
  "kernelspec": {
   "display_name": "Python 3",
   "name": "python3"
  },
  "language_info": {
   "codemirror_mode": {
    "name": "ipython",
    "version": 3
   },
   "file_extension": ".py",
   "mimetype": "text/x-python",
   "name": "python",
   "nbconvert_exporter": "python",
   "pygments_lexer": "ipython3",
   "version": "3.13.3"
  }
 },
 "nbformat": 4,
 "nbformat_minor": 0
}
