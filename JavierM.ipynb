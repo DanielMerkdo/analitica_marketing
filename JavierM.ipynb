{
 "cells": [
  {
   "cell_type": "code",
   "execution_count": 2,
   "metadata": {
    "colab": {
     "base_uri": "https://localhost:8080/"
    },
    "executionInfo": {
     "elapsed": 1050,
     "status": "ok",
     "timestamp": 1746312798533,
     "user": {
      "displayName": "JAVIER MAURICIO SUAREZ MONSALVE",
      "userId": "12310284964778096183"
     },
     "user_tz": 300
    },
    "id": "FWbaCqT-VMKm",
    "outputId": "b54b5360-1ae7-46a8-de11-0e7ec425149a"
   },
   "outputs": [
    {
     "ename": "ModuleNotFoundError",
     "evalue": "No module named 'google'",
     "output_type": "error",
     "traceback": [
      "\u001b[31m---------------------------------------------------------------------------\u001b[39m",
      "\u001b[31mModuleNotFoundError\u001b[39m                       Traceback (most recent call last)",
      "\u001b[36mCell\u001b[39m\u001b[36m \u001b[39m\u001b[32mIn[2]\u001b[39m\u001b[32m, line 3\u001b[39m\n\u001b[32m      1\u001b[39m \u001b[38;5;66;03m# prompt: mount drive y crear path para sys y para directorio de trabajo\u001b[39;00m\n\u001b[32m----> \u001b[39m\u001b[32m3\u001b[39m \u001b[38;5;28;01mfrom\u001b[39;00m\u001b[38;5;250m \u001b[39m\u001b[34;01mgoogle\u001b[39;00m\u001b[34;01m.\u001b[39;00m\u001b[34;01mcolab\u001b[39;00m\u001b[38;5;250m \u001b[39m\u001b[38;5;28;01mimport\u001b[39;00m drive\n\u001b[32m      4\u001b[39m drive.mount(\u001b[33m'\u001b[39m\u001b[33m/content/drive\u001b[39m\u001b[33m'\u001b[39m)\n\u001b[32m      6\u001b[39m \u001b[38;5;28;01mimport\u001b[39;00m\u001b[38;5;250m \u001b[39m\u001b[34;01msys\u001b[39;00m\n",
      "\u001b[31mModuleNotFoundError\u001b[39m: No module named 'google'"
     ]
    }
   ],
   "source": [
    "# prompt: mount drive y crear path para sys y para directorio de trabajo\n",
    "\n",
    "from google.colab import drive\n",
    "drive.mount('/content/drive')\n",
    "\n",
    "import sys\n",
    "import os\n",
    "\n",
    "# Define the path to your working directory in Google Drive\n",
    "path = \"/content/drive/My Drive/cod/analitica_marketing\"  # Replace with your actual directory\n",
    "\n",
    "\n",
    "sys.path.append(path) ### para importar archivo de funciones propias a través de import\n",
    "\n",
    "os.chdir(path) ### para que por defecto suba y descargue archivos partiendo de esa ruta"
   ]
  },
  {
   "cell_type": "code",
   "execution_count": null,
   "metadata": {
    "executionInfo": {
     "elapsed": 13,
     "status": "ok",
     "timestamp": 1746312833179,
     "user": {
      "displayName": "JAVIER MAURICIO SUAREZ MONSALVE",
      "userId": "12310284964778096183"
     },
     "user_tz": 300
    },
    "id": "8AzJqb-pIM7E"
   },
   "outputs": [],
   "source": [
    "import a_funciones as funciones     # Importar el módulo\n",
    "\n"
   ]
  },
  {
   "cell_type": "code",
   "execution_count": null,
   "metadata": {
    "colab": {
     "base_uri": "https://localhost:8080/",
     "height": 141
    },
    "executionInfo": {
     "elapsed": 270,
     "status": "error",
     "timestamp": 1746312875687,
     "user": {
      "displayName": "JAVIER MAURICIO SUAREZ MONSALVE",
      "userId": "12310284964778096183"
     },
     "user_tz": 300
    },
    "id": "wO7rOZPLW3T3",
    "outputId": "8dffe041-67d9-4323-c5b3-457dd519d3e7"
   },
   "outputs": [
    {
     "ename": "AttributeError",
     "evalue": "module 'a_funciones' has no attribute 'saludar'",
     "output_type": "error",
     "traceback": [
      "\u001b[0;31m---------------------------------------------------------------------------\u001b[0m",
      "\u001b[0;31mAttributeError\u001b[0m                            Traceback (most recent call last)",
      "\u001b[0;32m<ipython-input-24-5356fa3790ef>\u001b[0m in \u001b[0;36m<cell line: 0>\u001b[0;34m()\u001b[0m\n\u001b[0;32m----> 1\u001b[0;31m \u001b[0mfunciones\u001b[0m\u001b[0;34m.\u001b[0m\u001b[0msaludar\u001b[0m\u001b[0;34m\u001b[0m\u001b[0;34m\u001b[0m\u001b[0m\n\u001b[0m",
      "\u001b[0;31mAttributeError\u001b[0m: module 'a_funciones' has no attribute 'saludar'"
     ]
    }
   ],
   "source": [
    "funciones.saludar()"
   ]
  },
  {
   "cell_type": "code",
   "execution_count": null,
   "metadata": {
    "executionInfo": {
     "elapsed": 5,
     "status": "ok",
     "timestamp": 1746312836955,
     "user": {
      "displayName": "JAVIER MAURICIO SUAREZ MONSALVE",
      "userId": "12310284964778096183"
     },
     "user_tz": 300
    },
    "id": "pSyAMeLlTMwe"
   },
   "outputs": [],
   "source": [
    "\n",
    "from a_funciones import *\n"
   ]
  },
  {
   "cell_type": "code",
   "execution_count": null,
   "metadata": {
    "colab": {
     "base_uri": "https://localhost:8080/",
     "height": 141
    },
    "executionInfo": {
     "elapsed": 14,
     "status": "error",
     "timestamp": 1746312803823,
     "user": {
      "displayName": "JAVIER MAURICIO SUAREZ MONSALVE",
      "userId": "12310284964778096183"
     },
     "user_tz": 300
    },
    "id": "wowoHORXTRwl",
    "outputId": "aadf5611-281c-462a-8ba0-3bce6fd77737"
   },
   "outputs": [
    {
     "ename": "NameError",
     "evalue": "name 'saludar' is not defined",
     "output_type": "error",
     "traceback": [
      "\u001b[0;31m---------------------------------------------------------------------------\u001b[0m",
      "\u001b[0;31mNameError\u001b[0m                                 Traceback (most recent call last)",
      "\u001b[0;32m<ipython-input-18-67e92cc24e58>\u001b[0m in \u001b[0;36m<cell line: 0>\u001b[0;34m()\u001b[0m\n\u001b[0;32m----> 1\u001b[0;31m \u001b[0msaludar\u001b[0m\u001b[0;34m(\u001b[0m\u001b[0;34m)\u001b[0m\u001b[0;34m\u001b[0m\u001b[0;34m\u001b[0m\u001b[0m\n\u001b[0m",
      "\u001b[0;31mNameError\u001b[0m: name 'saludar' is not defined"
     ]
    }
   ],
   "source": [
    "saludar()"
   ]
  }
 ],
 "metadata": {
  "colab": {
   "authorship_tag": "ABX9TyOjEwhLuAIIWAGfiL0x30LY",
   "provenance": []
  },
  "kernelspec": {
   "display_name": "Python 3",
   "name": "python3"
  },
  "language_info": {
   "codemirror_mode": {
    "name": "ipython",
    "version": 3
   },
   "file_extension": ".py",
   "mimetype": "text/x-python",
   "name": "python",
   "nbconvert_exporter": "python",
   "pygments_lexer": "ipython3",
   "version": "3.13.3"
  }
 },
 "nbformat": 4,
 "nbformat_minor": 0
}
