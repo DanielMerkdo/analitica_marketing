{
  "nbformat": 4,
  "nbformat_minor": 0,
  "metadata": {
    "colab": {
      "provenance": [],
      "include_colab_link": true
    },
    "kernelspec": {
      "name": "python3",
      "display_name": "Python 3"
    },
    "language_info": {
      "name": "python"
    }
  },
  "cells": [
    {
      "cell_type": "markdown",
      "metadata": {
        "id": "view-in-github",
        "colab_type": "text"
      },
      "source": [
        "<a href=\"https://colab.research.google.com/github/DanielMerkdo/analitica_marketing/blob/main/c_modelado_.ipynb\" target=\"_parent\"><img src=\"https://colab.research.google.com/assets/colab-badge.svg\" alt=\"Open In Colab\"/></a>"
      ]
    },
    {
      "cell_type": "code",
      "execution_count": null,
      "metadata": {
        "id": "9uL_051aGgaA"
      },
      "outputs": [],
      "source": [
        " ### Importar librerias\n",
        " import numpy as np\n",
        " import pandas as pd\n",
        " import sqlite3 as sql\n",
        " from sklearn.preprocessing import MinMaxScaler\n",
        " from ipywidgets import interact\n",
        " from sklearn import neighbors\n",
        " import joblib"
      ]
    },
    {
      "cell_type": "code",
      "source": [
        " ### Conectarse con la base de datos\n",
        " conex= sql.connect('data/movies.sqlite')\n",
        " cur= conex.cursor()"
      ],
      "metadata": {
        "id": "27cDnpaGRtyw"
      },
      "execution_count": null,
      "outputs": []
    },
    {
      "cell_type": "code",
      "source": [
        " ### Ver las tablas que hay en la base de datos\n",
        " cur.execute(\"SELECT name FROM sqlite_master WHERE type= \"table\" \")\n",
        " print(cur.fetchall())"
      ],
      "metadata": {
        "id": "2ypk2KoFSTKc"
      },
      "execution_count": null,
      "outputs": []
    },
    {
      "cell_type": "code",
      "source": [
        " ### Traer tabla de base de datos a Python\n",
        " movies= pd.read_sql(\"\"\"SELECT * FROM movies\"\"\", conex)\n",
        " ratings= pd.read_sql('SELECT * FROM ratings', conex)"
      ],
      "metadata": {
        "id": "ki9P6tvcSZyC"
      },
      "execution_count": null,
      "outputs": []
    },
    {
      "cell_type": "code",
      "source": [
        "### Sistemas basados en popular\n",
        "### Mejores peliculas calificadas que tengan una calificacion diferente de 0.0\n",
        "pd.read_sql(\"\"\"select title,\n",
        "            avg(rating) as avg_rat,\n",
        "            count(*) as watch_num\n",
        "            from ratingtitle\n",
        "            where rating<>0.0\n",
        "            group by title\n",
        "            having wacth_num >=15 and watch_num <=100\n",
        "            order by avg_rat desc\n",
        "            limit 10\n",
        "            \"\"\", conex)\n",
        "\n"
      ],
      "metadata": {
        "id": "17gyspplSm2L"
      },
      "execution_count": null,
      "outputs": []
    },
    {
      "cell_type": "code",
      "source": [
        "### La peliculas mas vistas con promedio\n",
        "pd.read_sql(\"\"\"select title,\n",
        "            avg(iif(rating= 0, Null,rating)) as avg_cal\n",
        "            count(*) as watch_num\n",
        "            from ratingtitle\n",
        "            group by title\n",
        "            order by watch_num desc\n",
        "            limit 10\n",
        "            \"\"\", conex)\n"
      ],
      "metadata": {
        "id": "YQydh3y3aeyc"
      },
      "execution_count": null,
      "outputs": []
    },
    {
      "cell_type": "code",
      "source": [
        "### Las mejoras peliculas calificadas segun la fecha en que la vieron\n",
        "pd.read_sql(\"\"\"select fecha, title,\n",
        "            avg(iif(rating= 0.0, Null,rating)) as avg_cal,\n",
        "            count(iif(rating= 0.0, Null,rating)) as watch_num\n",
        "            from ratingtitle\n",
        "            group by title\n",
        "            having watch_num >=15 and watch_num <=100\n",
        "            order by avg_cal desc\n",
        "            limit 10\n",
        "            \"\"\", conex)"
      ],
      "metadata": {
        "id": "4MKj8KETcCA2"
      },
      "execution_count": null,
      "outputs": []
    },
    {
      "cell_type": "code",
      "source": [
        "###Sistema de recomendacion basado en contenido de un producto\n",
        "movies2= pd.read_sql(\"\"\"select * from movies2\"\"\", conex)\n",
        "movies2= movies2.drop([\"level_0\", \"index\"], axis=1)\n",
        "\n",
        "movies3= pd.read_sql(\"\"\"select * from movies3\"\"\", conex)\n",
        "movies3= movies3.drop([\"index\"], axis=1)"
      ],
      "metadata": {
        "id": "tgeMEE4gggpM"
      },
      "execution_count": null,
      "outputs": []
    },
    {
      "cell_type": "code",
      "source": [
        "### Imprimir las 10 peliculas mas similares\n",
        "print(top_similar_movies)"
      ],
      "metadata": {
        "id": "Eee0xueTgjML"
      },
      "execution_count": null,
      "outputs": []
    },
    {
      "cell_type": "code",
      "source": [
        "### funcion de peliculas recomendadas \"\"\n",
        "def movierecomendacion(movie= list(movie2[\"title\"])):\n",
        "    ind_movie= movies2[movies2[\"title\"]== movie].index.values.astype(int)[0]\n",
        "    similar_movies= movies3.corrwith(movies3.iloc[ind_movie,:], axis=1)\n",
        "    similar_movies= similar_movies.sort_values(ascending=False)\n",
        "    top_similar_movies= similar_movies.to_frame(name=\"correlacion\").iloc[0:11]\n",
        "    top_similar_movies[\"title\"]= movies2[\"title\"]\n",
        "    return top_similar_movies[[\"title\", \"correlacion\"]]"
      ],
      "metadata": {
        "id": "BRdwHKpZi4tY"
      },
      "execution_count": null,
      "outputs": []
    },
    {
      "cell_type": "code",
      "source": [
        "print(interact(movierecomendacion))"
      ],
      "metadata": {
        "id": "yUhOEBFMowKu"
      },
      "execution_count": null,
      "outputs": []
    },
    {
      "cell_type": "code",
      "source": [
        "### Sistema de recomendacion basado en contenido KNN un solo producto\n",
        "model= neighbors.NearestNeighbors(n_neighbors=11, metric=\"cosine\")\n",
        "model.fit(movies3)\n",
        "dist, idlist= model.kneighbors(movies3)\n",
        "\n",
        "distancias= pd.DataFrame(dist)\n",
        "id_list= pd.DataFrame(idlist)"
      ],
      "metadata": {
        "id": "-YEjtiCApl3g"
      },
      "execution_count": null,
      "outputs": []
    },
    {
      "cell_type": "code",
      "source": [
        "def MovieRecomender(movie_name= list(movies2[\"title\"].value_counts().index)):\n",
        "    movie_list_name= []\n",
        "    movie_id= movies2[movies2[\"title\"]== movie_name].index\n",
        "    movie_id= movie_id[0]\n",
        "    for newid in idlist[movie_id]:\n",
        "      movie_list_name.append(movies2.loc[newid].title])\n",
        "    return movie_list_name\n",
        "\n"
      ],
      "metadata": {
        "id": "IpAaoU6Aqo0E"
      },
      "execution_count": null,
      "outputs": []
    },
    {
      "cell_type": "code",
      "source": [
        " print(interact(MovieRecomender))"
      ],
      "metadata": {
        "id": "re7vDhTohS9l"
      },
      "execution_count": null,
      "outputs": []
    }
  ]
}